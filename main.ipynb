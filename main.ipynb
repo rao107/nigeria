{
 "cells": [
  {
   "cell_type": "code",
   "execution_count": 1,
   "metadata": {},
   "outputs": [],
   "source": [
    "import cv2 as cv\n",
    "import numpy as np"
   ]
  },
  {
   "cell_type": "code",
   "execution_count": 78,
   "metadata": {},
   "outputs": [
    {
     "data": {
      "text/plain": [
       "True"
      ]
     },
     "execution_count": 78,
     "metadata": {},
     "output_type": "execute_result"
    }
   ],
   "source": [
    "img = cv.imread('img/PXL_20230615_184241772.jpg')\n",
    "img = img[170:7800, 370:2600]\n",
    "cv.imwrite('temp/img.jpg', img)"
   ]
  },
  {
   "cell_type": "code",
   "execution_count": 12,
   "metadata": {},
   "outputs": [
    {
     "data": {
      "text/plain": [
       "True"
      ]
     },
     "execution_count": 12,
     "metadata": {},
     "output_type": "execute_result"
    }
   ],
   "source": [
    "gray = cv.cvtColor(img, cv.COLOR_BGR2GRAY)\n",
    "#gray = np.float32(gray)\n",
    "cv.imwrite('temp/gray.jpg', gray)"
   ]
  },
  {
   "cell_type": "code",
   "execution_count": 27,
   "metadata": {},
   "outputs": [
    {
     "data": {
      "text/plain": [
       "True"
      ]
     },
     "execution_count": 27,
     "metadata": {},
     "output_type": "execute_result"
    }
   ],
   "source": [
    "thresh = cv.adaptiveThreshold(gray, 255, cv.ADAPTIVE_THRESH_GAUSSIAN_C, cv.THRESH_BINARY, 11, 6)\n",
    "cv.imwrite('temp/thresh.jpg', thresh)"
   ]
  },
  {
   "cell_type": "code",
   "execution_count": 57,
   "metadata": {},
   "outputs": [],
   "source": [
    "kernel = np.ones((3,3),np.uint8)"
   ]
  },
  {
   "cell_type": "code",
   "execution_count": 58,
   "metadata": {},
   "outputs": [
    {
     "data": {
      "text/plain": [
       "True"
      ]
     },
     "execution_count": 58,
     "metadata": {},
     "output_type": "execute_result"
    }
   ],
   "source": [
    "sobelx = np.abs(cv.Sobel(gray, cv.CV_64F, 1, 0, ksize=5))\n",
    "_, sobelx = cv.threshold(sobelx, 240, 255, cv.THRESH_BINARY)\n",
    "sobelx = cv.morphologyEx(sobelx, cv.MORPH_OPEN, kernel)\n",
    "\n",
    "sobely = np.abs(cv.Sobel(gray, cv.CV_64F, 0, 1, ksize=5))\n",
    "_, sobely = cv.threshold(sobely, 240, 255, cv.THRESH_BINARY)\n",
    "sobely = cv.morphologyEx(sobely, cv.MORPH_OPEN, kernel)\n",
    "\n",
    "cv.imwrite('temp/sobelx.jpg', sobelx)\n",
    "cv.imwrite('temp/sobely.jpg', sobely)"
   ]
  },
  {
   "cell_type": "code",
   "execution_count": 59,
   "metadata": {},
   "outputs": [
    {
     "data": {
      "text/plain": [
       "True"
      ]
     },
     "execution_count": 59,
     "metadata": {},
     "output_type": "execute_result"
    }
   ],
   "source": [
    "s = np.int32(sobelx) & np.int32(sobely)\n",
    "\n",
    "cv.imwrite('temp/soble.jpg', s)"
   ]
  },
  {
   "cell_type": "code",
   "execution_count": null,
   "metadata": {},
   "outputs": [],
   "source": []
  },
  {
   "cell_type": "code",
   "execution_count": 94,
   "metadata": {},
   "outputs": [
    {
     "data": {
      "text/plain": [
       "True"
      ]
     },
     "execution_count": 94,
     "metadata": {},
     "output_type": "execute_result"
    }
   ],
   "source": [
    "hsv = cv.cvtColor(img, cv.COLOR_BGR2HSV)\n",
    "(h, s, v) = cv.split(hsv)\n",
    "s = s * 3\n",
    "s = np.clip(s, 0, 255)\n",
    "imghsv = cv.merge([h, s, v])\n",
    "imgbgr = cv.cvtColor(imghsv, cv.COLOR_HSV2BGR)\n",
    "\n",
    "cv.imwrite('temp/hsv.jpg', imgbgr)"
   ]
  },
  {
   "cell_type": "code",
   "execution_count": 95,
   "metadata": {},
   "outputs": [
    {
     "data": {
      "text/plain": [
       "True"
      ]
     },
     "execution_count": 95,
     "metadata": {},
     "output_type": "execute_result"
    }
   ],
   "source": [
    "cv.imwrite('temp/contrast.jpg', np.clip(img * 2, 0, 255)) #???"
   ]
  },
  {
   "cell_type": "code",
   "execution_count": 101,
   "metadata": {},
   "outputs": [
    {
     "data": {
      "text/plain": [
       "True"
      ]
     },
     "execution_count": 101,
     "metadata": {},
     "output_type": "execute_result"
    }
   ],
   "source": [
    "temp = cv.cvtColor(imgbgr[:250, :250], cv.COLOR_BGR2GRAY)\n",
    "temp = np.float32(temp)\n",
    "\n",
    "dst = cv.cornerHarris(temp, 2, 3, 0.04)\n",
    "\n",
    "dst = cv.dilate(dst, None)\n",
    "\n",
    "temp = imgbgr[:250, :250]\n",
    "temp[dst>0.01*dst.max()]=[0,0,255]\n",
    "\n",
    "cv.imwrite('temp/ccc.jpg', temp)"
   ]
  },
  {
   "cell_type": "code",
   "execution_count": 103,
   "metadata": {},
   "outputs": [
    {
     "data": {
      "text/plain": [
       "True"
      ]
     },
     "execution_count": 103,
     "metadata": {},
     "output_type": "execute_result"
    }
   ],
   "source": [
    "laplacian = cv.Laplacian(gray, cv.CV_64F)\n",
    "\n",
    "cv.imwrite('temp/laplacian.jpg', laplacian)"
   ]
  },
  {
   "cell_type": "code",
   "execution_count": 147,
   "metadata": {},
   "outputs": [
    {
     "data": {
      "text/plain": [
       "True"
      ]
     },
     "execution_count": 147,
     "metadata": {},
     "output_type": "execute_result"
    }
   ],
   "source": [
    "blur = cv.GaussianBlur(gray, (5,5), 2)\n",
    "canny = cv.Canny(blur, 5, 30)\n",
    "\n",
    "cv.imwrite('temp/canny.jpg', canny)"
   ]
  },
  {
   "cell_type": "code",
   "execution_count": 148,
   "metadata": {},
   "outputs": [
    {
     "data": {
      "text/plain": [
       "True"
      ]
     },
     "execution_count": 148,
     "metadata": {},
     "output_type": "execute_result"
    }
   ],
   "source": [
    "contours, _ = cv.findContours(canny, cv.RETR_TREE, cv.CHAIN_APPROX_SIMPLE)\n",
    "cv.drawContours(img, contours, -1, (0, 255, 0), 3)\n",
    "cv.imwrite('temp/contours.jpg', img)"
   ]
  },
  {
   "cell_type": "code",
   "execution_count": 125,
   "metadata": {},
   "outputs": [
    {
     "data": {
      "text/plain": [
       "True"
      ]
     },
     "execution_count": 125,
     "metadata": {},
     "output_type": "execute_result"
    }
   ],
   "source": [
    "hsv = cv.cvtColor(img, cv.COLOR_BGR2HSV)\n",
    "(h, s, v) = cv.split(hsv)\n",
    "s = s * 2\n",
    "s = np.clip(s, 0, 255)\n",
    "imghsv = cv.merge([h, s, v])\n",
    "\n",
    "blur = cv.GaussianBlur(cv.cvtColor(cv.cvtColor(imghsv, cv.COLOR_HSV2BGR), cv.COLOR_BGR2GRAY), (5,5) ,1)\n",
    "canny = cv.Canny(blur, 10, 50)\n",
    "cv.imwrite('temp/canny2.jpg', canny)"
   ]
  },
  {
   "cell_type": "code",
   "execution_count": 129,
   "metadata": {},
   "outputs": [
    {
     "data": {
      "text/plain": [
       "True"
      ]
     },
     "execution_count": 129,
     "metadata": {},
     "output_type": "execute_result"
    }
   ],
   "source": [
    "hsv = cv.cvtColor(img, cv.COLOR_BGR2HSV)\n",
    "\n",
    "blur = cv.GaussianBlur(cv.cvtColor(cv.cvtColor(imghsv, cv.COLOR_HSV2BGR), cv.COLOR_BGR2GRAY), (5,5) ,1)\n",
    "canny = cv.Canny(imghsv, 10, 50)\n",
    "cv.imwrite('temp/canny3.jpg', canny)"
   ]
  },
  {
   "cell_type": "code",
   "execution_count": null,
   "metadata": {},
   "outputs": [],
   "source": []
  },
  {
   "cell_type": "code",
   "execution_count": null,
   "metadata": {},
   "outputs": [],
   "source": []
  },
  {
   "cell_type": "code",
   "execution_count": 2,
   "metadata": {},
   "outputs": [],
   "source": [
    "from PIL import Image\n",
    "import pytesseract"
   ]
  },
  {
   "cell_type": "code",
   "execution_count": 6,
   "metadata": {},
   "outputs": [
    {
     "name": "stdout",
     "output_type": "stream",
     "text": [
      "Name: Anayo D, Ozurumba (PDP)\n",
      "Constituency: Isiala Ngwa North/\n",
      "South\n",
      "Elected: 2003 Seat Up: 2007\n",
      "Date of Birth: October, 1954\n",
      "Education: B,sc Hons in Govt, Public\n",
      "Administration,\n",
      "\n",
      "\n"
     ]
    }
   ],
   "source": [
    "print(pytesseract.image_to_string(Image.open('./temp/crop.jpg')))"
   ]
  },
  {
   "cell_type": "code",
   "execution_count": null,
   "metadata": {},
   "outputs": [],
   "source": []
  }
 ],
 "metadata": {
  "kernelspec": {
   "display_name": ".venv",
   "language": "python",
   "name": "python3"
  },
  "language_info": {
   "codemirror_mode": {
    "name": "ipython",
    "version": 3
   },
   "file_extension": ".py",
   "mimetype": "text/x-python",
   "name": "python",
   "nbconvert_exporter": "python",
   "pygments_lexer": "ipython3",
   "version": "3.12.5"
  }
 },
 "nbformat": 4,
 "nbformat_minor": 2
}
